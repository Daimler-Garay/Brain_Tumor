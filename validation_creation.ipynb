{
 "cells": [
  {
   "cell_type": "code",
   "execution_count": 2,
   "metadata": {},
   "outputs": [
    {
     "name": "stdout",
     "output_type": "stream",
     "text": [
      "20% of images moved to ./N_TESTING/ and ./N_VALIDATION/, and deleted from ./TRAINING+TESTING/\n"
     ]
    }
   ],
   "source": [
    "import os\n",
    "import random\n",
    "import shutil\n",
    "\n",
    "# Set the path to the main folder containing subfolders with images\n",
    "main_folder_path = './TRAINING+TESTING/'\n",
    "\n",
    "# Set the paths to the new folders where you want to copy the images\n",
    "new_folder_path1 = './N_TESTING/'\n",
    "new_folder_path2 = './N_VALIDATION/'\n",
    "\n",
    "# Define the percentage of images to be copied (20% in this case for each folder)\n",
    "percentage_to_copy = 20\n",
    "\n",
    "# Get a list of all subfolders in the main folder\n",
    "subfolders = [f.path for f in os.scandir(main_folder_path) if f.is_dir()]\n",
    "\n",
    "# Iterate over each subfolder\n",
    "for subfolder in subfolders:\n",
    "    # Get a list of all files (images) in the current subfolder\n",
    "    files = [f.path for f in os.scandir(subfolder) if f.is_file()]\n",
    "\n",
    "    # Calculate the number of files to copy based on the percentage\n",
    "    num_files_to_copy = int(len(files) * (percentage_to_copy / 100))\n",
    "\n",
    "    # Randomly select files to copy\n",
    "    files_to_copy = random.sample(files, num_files_to_copy)\n",
    "\n",
    "    # Create the new subfolders in the new folders\n",
    "    new_subfolder1 = os.path.join(new_folder_path1, os.path.basename(subfolder))\n",
    "    new_subfolder2 = os.path.join(new_folder_path2, os.path.basename(subfolder))\n",
    "    os.makedirs(new_subfolder1, exist_ok=True)\n",
    "    os.makedirs(new_subfolder2, exist_ok=True)\n",
    "\n",
    "    # Split the selected files into two groups\n",
    "    files_to_copy1 = files_to_copy[:num_files_to_copy // 2]\n",
    "    files_to_copy2 = files_to_copy[num_files_to_copy // 2:]\n",
    "\n",
    "    # Copy selected files to the new subfolders\n",
    "    for file_to_copy1 in files_to_copy1:\n",
    "        shutil.copy(file_to_copy1, new_subfolder1)\n",
    "        os.remove(file_to_copy1)\n",
    "\n",
    "    for file_to_copy2 in files_to_copy2:\n",
    "        shutil.copy(file_to_copy2, new_subfolder2)\n",
    "        os.remove(file_to_copy2)\n",
    "\n",
    "print(f\"{percentage_to_copy}% of images moved to {new_folder_path1} and {new_folder_path2}, and deleted from {main_folder_path}\")\n"
   ]
  }
 ],
 "metadata": {
  "kernelspec": {
   "display_name": "Python 3",
   "language": "python",
   "name": "python3"
  },
  "language_info": {
   "codemirror_mode": {
    "name": "ipython",
    "version": 3
   },
   "file_extension": ".py",
   "mimetype": "text/x-python",
   "name": "python",
   "nbconvert_exporter": "python",
   "pygments_lexer": "ipython3",
   "version": "3.11.6"
  }
 },
 "nbformat": 4,
 "nbformat_minor": 2
}
